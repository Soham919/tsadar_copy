{
 "cells": [
  {
   "cell_type": "markdown",
   "id": "c0e3b83b-51b6-4bef-be8c-d76544487e91",
   "metadata": {},
   "source": [
    "## Scratch Notebook for TS calculations"
   ]
  },
  {
   "cell_type": "markdown",
   "id": "5d534b41-e515-44d7-9706-9cd67562d3a0",
   "metadata": {},
   "source": [
    "### Initialize"
   ]
  },
  {
   "cell_type": "code",
   "execution_count": null,
   "id": "d43ba35e-dd37-4c42-9f7a-a450f609f173",
   "metadata": {},
   "outputs": [],
   "source": [
    "import time\n",
    "import matplotlib.pyplot as plt\n",
    "from inverse_thomson_scattering.v0 import form_factor as np_ff\n",
    "from inverse_thomson_scattering.jax import form_factor as jnp_ff\n",
    "from inverse_thomson_scattering.utils import plotting\n",
    "import numpy as np"
   ]
  },
  {
   "cell_type": "code",
   "execution_count": null,
   "id": "92c9f6fd-e596-46d5-8cf7-e68bb52637cd",
   "metadata": {},
   "outputs": [],
   "source": [
    "x = np.array(np.arange(-8, 8, 0.1))\n",
    "distf = 1 / (2 * np.pi) ** (1 / 2) * np.exp(-(x**2) / 2)\n",
    "sa = np.linspace(55, 65, 10)\n",
    "# backend = \"jax\""
   ]
  },
  {
   "cell_type": "code",
   "execution_count": null,
   "id": "148c8b88-c55a-4fc7-ab4b-24f8963bb1bd",
   "metadata": {},
   "outputs": [],
   "source": [
    "# if backend == \"numpy\":\n",
    "t0 = time.time()\n",
    "formf, lams = np_ff.nonMaxwThomson(1.0, 1.0, 1.0, 1.0, 1.0, 0.3e20, 0.0, 0.0, [400, 700], 526.5, sa, distf, x)\n",
    "t1 = time.time()\n",
    "print(f\"numpy/scipy form factor calculation {np.round(t1 - t0, 4)} s\")"
   ]
  },
  {
   "cell_type": "code",
   "execution_count": null,
   "id": "517be4a6-1bf0-4ce4-9c9d-8b2794547106",
   "metadata": {},
   "outputs": [],
   "source": [
    "# elif backend == \"jax\":\n",
    "# get the functions\n",
    "ff_fn, vg_ff_fn = jnp_ff.get_form_factor_fn([400, 700], 526.5)\n",
    "\n",
    "# run them once so they're compiled\n",
    "_ = ff_fn(1.0, 1.0, 1.0, 1.0, 1.0, 0.3e20, 0.0, 0.0, sa, (distf, x))\n",
    "_ = vg_ff_fn(1.0, 1.0, 1.0, 1.0, 1.0, 0.3e20, 0.0, 0.0, sa, (distf, x))\n",
    "\n",
    "# then run them again to benchmark them\n",
    "# TODO: find a better way to measure this\n",
    "t0 = time.time()\n",
    "formf_jax, lams_jax = ff_fn(1.0, 1.0, 1.0, 1.0, 1.0, 0.3e20, 0.0, 0.0, sa, (distf, x))\n",
    "t1 = time.time()\n",
    "print(f\"jax form factor calculation took {np.round(t1 - t0, 4)} s\")"
   ]
  },
  {
   "cell_type": "code",
   "execution_count": null,
   "id": "64951605-0d88-4fe7-b3c7-e8f5dbe58335",
   "metadata": {},
   "outputs": [],
   "source": [
    "t0 = time.time()\n",
    "val, grad = vg_ff_fn(1.0, 1.0, 1.0, 1.0, 1.0, 0.3e20, 0.0, 0.0, sa, (distf, x))\n",
    "t1 = time.time()\n",
    "print(f\"value and gradient took {np.round(t1 - t0, 4)} s\")\n",
    "print(f\"gradient was {grad}\")"
   ]
  },
  {
   "cell_type": "code",
   "execution_count": null,
   "id": "cb4af747-81e3-4e9c-a36c-8ebe8b3f0b00",
   "metadata": {},
   "outputs": [],
   "source": [
    "plotting(formf, formf_jax)"
   ]
  },
  {
   "cell_type": "code",
   "execution_count": null,
   "id": "d123133e-ce22-424f-b46b-ea8a9a09bcb8",
   "metadata": {},
   "outputs": [],
   "source": []
  },
  {
   "cell_type": "code",
   "execution_count": null,
   "id": "fbb2a3dc-e2cf-4282-84e8-af2bb5356d40",
   "metadata": {},
   "outputs": [],
   "source": []
  },
  {
   "cell_type": "code",
   "execution_count": null,
   "id": "e6ae8e5c-7772-4d4a-b36b-f6e209abb9f4",
   "metadata": {},
   "outputs": [],
   "source": []
  },
  {
   "cell_type": "code",
   "execution_count": null,
   "id": "9c46fa1d-c3dc-4d80-85d0-4150c1c9543e",
   "metadata": {},
   "outputs": [],
   "source": []
  }
 ],
 "metadata": {
  "kernelspec": {
   "display_name": "Python 3 (ipykernel)",
   "language": "python",
   "name": "python3"
  },
  "language_info": {
   "codemirror_mode": {
    "name": "ipython",
    "version": 3
   },
   "file_extension": ".py",
   "mimetype": "text/x-python",
   "name": "python",
   "nbconvert_exporter": "python",
   "pygments_lexer": "ipython3",
   "version": "3.9.13"
  }
 },
 "nbformat": 4,
 "nbformat_minor": 5
}

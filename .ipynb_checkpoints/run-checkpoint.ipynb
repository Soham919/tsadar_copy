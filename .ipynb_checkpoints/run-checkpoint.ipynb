{
 "cells": [
  {
   "cell_type": "markdown",
   "id": "c0e3b83b-51b6-4bef-be8c-d76544487e91",
   "metadata": {},
   "source": [
    "## Scratch Notebook for TS calculations"
   ]
  },
  {
   "cell_type": "code",
   "execution_count": 1,
   "id": "a09894eb-bb8f-44f8-b508-60b41e634c46",
   "metadata": {},
   "outputs": [],
   "source": [
    "import sys"
   ]
  },
  {
   "cell_type": "code",
   "execution_count": 2,
   "id": "04d69084-8631-4148-8fbe-a5ed9ad77a4e",
   "metadata": {
    "tags": []
   },
   "outputs": [
    {
     "name": "stdout",
     "output_type": "stream",
     "text": [
      "Requirement already satisfied: jax in /opt/conda/lib/python3.10/site-packages (from -r requirements.txt (line 1)) (0.3.14)\n",
      "Requirement already satisfied: jaxlib in /opt/conda/lib/python3.10/site-packages (from -r requirements.txt (line 2)) (0.3.14)\n",
      "Requirement already satisfied: numpy in /opt/conda/lib/python3.10/site-packages (from -r requirements.txt (line 3)) (1.22.4)\n",
      "Requirement already satisfied: scipy in /opt/conda/lib/python3.10/site-packages (from -r requirements.txt (line 4)) (1.8.1)\n",
      "Requirement already satisfied: matplotlib in /opt/conda/lib/python3.10/site-packages (from -r requirements.txt (line 5)) (3.5.2)\n",
      "Requirement already satisfied: etils[epath] in /opt/conda/lib/python3.10/site-packages (from jax->-r requirements.txt (line 1)) (0.6.0)\n",
      "Requirement already satisfied: typing-extensions in /opt/conda/lib/python3.10/site-packages (from jax->-r requirements.txt (line 1)) (4.3.0)\n",
      "Requirement already satisfied: absl-py in /opt/conda/lib/python3.10/site-packages (from jax->-r requirements.txt (line 1)) (1.1.0)\n",
      "Requirement already satisfied: opt-einsum in /opt/conda/lib/python3.10/site-packages (from jax->-r requirements.txt (line 1)) (3.3.0)\n",
      "Requirement already satisfied: flatbuffers<3.0,>=1.12 in /opt/conda/lib/python3.10/site-packages (from jaxlib->-r requirements.txt (line 2)) (2.0)\n",
      "Requirement already satisfied: cycler>=0.10 in /opt/conda/lib/python3.10/site-packages (from matplotlib->-r requirements.txt (line 5)) (0.11.0)\n",
      "Requirement already satisfied: fonttools>=4.22.0 in /opt/conda/lib/python3.10/site-packages (from matplotlib->-r requirements.txt (line 5)) (4.34.4)\n",
      "Requirement already satisfied: pyparsing>=2.2.1 in /opt/conda/lib/python3.10/site-packages (from matplotlib->-r requirements.txt (line 5)) (3.0.9)\n",
      "Requirement already satisfied: kiwisolver>=1.0.1 in /opt/conda/lib/python3.10/site-packages (from matplotlib->-r requirements.txt (line 5)) (1.4.4)\n",
      "Requirement already satisfied: python-dateutil>=2.7 in /opt/conda/lib/python3.10/site-packages (from matplotlib->-r requirements.txt (line 5)) (2.8.2)\n",
      "Requirement already satisfied: packaging>=20.0 in /opt/conda/lib/python3.10/site-packages (from matplotlib->-r requirements.txt (line 5)) (21.3)\n",
      "Requirement already satisfied: pillow>=6.2.0 in /opt/conda/lib/python3.10/site-packages (from matplotlib->-r requirements.txt (line 5)) (9.2.0)\n",
      "Requirement already satisfied: six>=1.5 in /opt/conda/lib/python3.10/site-packages (from python-dateutil>=2.7->matplotlib->-r requirements.txt (line 5)) (1.16.0)\n",
      "Requirement already satisfied: importlib_resources in /opt/conda/lib/python3.10/site-packages (from etils[epath]->jax->-r requirements.txt (line 1)) (5.8.0)\n",
      "Requirement already satisfied: zipp in /opt/conda/lib/python3.10/site-packages (from etils[epath]->jax->-r requirements.txt (line 1)) (3.8.0)\n"
     ]
    }
   ],
   "source": [
    "!{sys.executable} -m pip install -r requirements.txt"
   ]
  },
  {
   "cell_type": "markdown",
   "id": "5d534b41-e515-44d7-9706-9cd67562d3a0",
   "metadata": {
    "tags": []
   },
   "source": [
    "### Initialize"
   ]
  },
  {
   "cell_type": "code",
   "execution_count": 3,
   "id": "d43ba35e-dd37-4c42-9f7a-a450f609f173",
   "metadata": {},
   "outputs": [],
   "source": [
    "import time\n",
    "import matplotlib.pyplot as plt\n",
    "from inverse_thomson_scattering.v0 import form_factor as np_ff\n",
    "from inverse_thomson_scattering.jax import form_factor as jnp_ff\n",
    "from inverse_thomson_scattering.utils import plotting\n",
    "import numpy as np\n",
    "from scipy import special as sp"
   ]
  },
  {
   "cell_type": "code",
   "execution_count": 4,
   "id": "92c9f6fd-e596-46d5-8cf7-e68bb52637cd",
   "metadata": {},
   "outputs": [],
   "source": [
    "x = np.array(np.arange(-8, 8, 0.1))\n",
    "\n",
    "# distf = 1 / (2 * np.pi) ** (1 / 2) * np.exp(-(x**5) / 2)\n",
    "m = 2\n",
    "const = np.sqrt(3*sp.gamma(3./m)/sp.gamma(5./m))\n",
    "distf = np.exp(-(np.abs(x/const)**m))\n",
    "\n",
    "norm = np.trapz(distf) * (x[2]-x[1])\n",
    "distf = distf/norm\n",
    "\n",
    "sa = np.linspace(55, 65, 10)\n",
    "# backend = \"jax\""
   ]
  },
  {
   "cell_type": "code",
   "execution_count": 5,
   "id": "148c8b88-c55a-4fc7-ab4b-24f8963bb1bd",
   "metadata": {},
   "outputs": [
    {
     "name": "stderr",
     "output_type": "stream",
     "text": [
      "/home/alec/private/inverse-thomson-scattering/inverse_thomson_scattering/v0/form_factor.py:131: RuntimeWarning: divide by zero encountered in log\n",
      "  fe_vphi = sp.interp1d(x, np.log(DF), interpAlg, bounds_error=False, fill_value=-np.inf)\n",
      "/home/alec/private/inverse-thomson-scattering/inverse_thomson_scattering/v0/form_factor.py:162: RuntimeWarning: divide by zero encountered in log\n",
      "  ratmod = sp.interp1d(x, np.log(DF), interpAlg, bounds_error=False, fill_value=-np.inf)\n",
      "/home/alec/private/inverse-thomson-scattering/inverse_thomson_scattering/v0/ratintn.py:42: ComplexWarning: Casting complex values to real discards the imaginary part\n",
      "  out[:, ~iflat] = rfn[:, ~iflat]\n"
     ]
    },
    {
     "name": "stdout",
     "output_type": "stream",
     "text": [
      "numpy/scipy form factor calculation 0.3442 s\n"
     ]
    }
   ],
   "source": [
    "# if backend == \"numpy\":\n",
    "t0 = time.time()\n",
    "formf, lams = np_ff.nonMaxwThomson(1.0, 1.0, 1.0, 1.0, 1.0, 0.3e20, 0.0, 0.0, [400, 700], 526.5, sa, distf, x)\n",
    "t1 = time.time()\n",
    "print(f\"numpy/scipy form factor calculation {np.round(t1 - t0, 4)} s\")"
   ]
  },
  {
   "cell_type": "code",
   "execution_count": 6,
   "id": "517be4a6-1bf0-4ce4-9c9d-8b2794547106",
   "metadata": {},
   "outputs": [
    {
     "name": "stderr",
     "output_type": "stream",
     "text": [
      "WARNING:absl:No GPU/TPU found, falling back to CPU. (Set TF_CPP_MIN_LOG_LEVEL=0 and rerun for more info.)\n"
     ]
    },
    {
     "name": "stdout",
     "output_type": "stream",
     "text": [
      "jax form factor calculation took 0.0827 s\n"
     ]
    }
   ],
   "source": [
    "# elif backend == \"jax\":\n",
    "# get the functions\n",
    "ff_fn, vg_ff_fn = jnp_ff.get_form_factor_fn([400, 700], 526.5)\n",
    "\n",
    "# run them once so they're compiled\n",
    "_ = ff_fn(1.0, 1.0, 1.0, 1.0, 1.0, 0.3e20, 0.0, 0.0, sa, (distf, x))\n",
    "_ = vg_ff_fn(1.0, 1.0, 1.0, 1.0, 1.0, 0.3e20, 0.0, 0.0, sa, (distf, x))\n",
    "\n",
    "# then run them again to benchmark them\n",
    "# TODO: find a better way to measure this\n",
    "t0 = time.time()\n",
    "formf_jax, lams_jax = ff_fn(1.0, 1.0, 1.0, 1.0, 1.0, 0.3e20, 0.0, 0.0, sa, (distf, x))\n",
    "t1 = time.time()\n",
    "print(f\"jax form factor calculation took {np.round(t1 - t0, 4)} s\")"
   ]
  },
  {
   "cell_type": "code",
   "execution_count": 7,
   "id": "64951605-0d88-4fe7-b3c7-e8f5dbe58335",
   "metadata": {},
   "outputs": [
    {
     "name": "stdout",
     "output_type": "stream",
     "text": [
      "value and gradient took 0.1412 s\n",
      "gradient was nan\n"
     ]
    }
   ],
   "source": [
    "t0 = time.time()\n",
    "val, grad = vg_ff_fn(1.0, 1.0, 1.0, 1.0, 1.0, 0.3e20, 0.0, 0.0, sa, (distf, x))\n",
    "t1 = time.time()\n",
    "print(f\"value and gradient took {np.round(t1 - t0, 4)} s\")\n",
    "print(f\"gradient was {grad}\")"
   ]
  },
  {
   "cell_type": "code",
   "execution_count": 8,
   "id": "cb4af747-81e3-4e9c-a36c-8ebe8b3f0b00",
   "metadata": {},
   "outputs": [
    {
     "name": "stdout",
     "output_type": "stream",
     "text": [
      "L2 norm between jax and np/sp is nan\n"
     ]
    },
    {
     "data": {
      "image/png": "[encoded data removed]",
      "text/plain": [
       "<Figure size 1152x288 with 2 Axes>"
      ]
     },
     "metadata": {
      "needs_background": "light"
     },
     "output_type": "display_data"
    }
   ],
   "source": [
    "plotting.make_plots(formf, formf_jax)"
   ]
  },
  {
   "cell_type": "code",
   "execution_count": null,
   "id": "d123133e-ce22-424f-b46b-ea8a9a09bcb8",
   "metadata": {},
   "outputs": [],
   "source": []
  },
  {
   "cell_type": "code",
   "execution_count": null,
   "id": "fbb2a3dc-e2cf-4282-84e8-af2bb5356d40",
   "metadata": {},
   "outputs": [],
   "source": []
  },
  {
   "cell_type": "code",
   "execution_count": null,
   "id": "e6ae8e5c-7772-4d4a-b36b-f6e209abb9f4",
   "metadata": {},
   "outputs": [],
   "source": []
  },
  {
   "cell_type": "code",
   "execution_count": null,
   "id": "9c46fa1d-c3dc-4d80-85d0-4150c1c9543e",
   "metadata": {},
   "outputs": [],
   "source": []
  }
 ],
 "metadata": {
  "kernelspec": {
   "display_name": "Python 3 (ipykernel)",
   "language": "python",
   "name": "python3"
  },
  "language_info": {
   "codemirror_mode": {
    "name": "ipython",
    "version": 3
   },
   "file_extension": ".py",
   "mimetype": "text/x-python",
   "name": "python",
   "nbconvert_exporter": "python",
   "pygments_lexer": "ipython3",
   "version": "3.10.5"
  }
 },
 "nbformat": 4,
 "nbformat_minor": 5
}
